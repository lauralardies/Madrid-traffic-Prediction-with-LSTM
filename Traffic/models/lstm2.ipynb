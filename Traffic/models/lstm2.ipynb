{
 "cells": [
  {
   "cell_type": "markdown",
   "id": "8c4974cc",
   "metadata": {},
   "source": [
    "# Modelo LSTM Complejo.\n",
    "#### Este modelo LSTM busca predecir la intensidad y la velocidad media de los vehículos en un punto dada una entrada de datos.\n",
    "\n",
    "El primer paso es importar todas las librerías necesarias para el correcto funcionamiento de este cuaderno de Jupyter."
   ]
  },
  {
   "cell_type": "code",
   "execution_count": null,
   "id": "fadda1f6",
   "metadata": {},
   "outputs": [],
   "source": [
    "# Librerías estándar\n",
    "from math import sqrt  # Función matemática\n",
    "\n",
    "# Manejo de datos\n",
    "import numpy as np  # Manejo de arrays numéricos\n",
    "import pandas as pd  # Manipulación de estructuras de datos (DataFrames)\n",
    "\n",
    "# Visualización\n",
    "import matplotlib.pyplot as plt  # Gráficas y visualización\n",
    "\n",
    "# Preprocesamiento y métricas (Scikit-learn)\n",
    "from sklearn.preprocessing import MinMaxScaler  # Normalización de datos\n",
    "from sklearn.metrics import mean_squared_error, mean_absolute_error, r2_score  # Métricas de evaluación\n",
    "\n",
    "# Modelado (Keras / TensorFlow)\n",
    "import tensorflow as tf  # Backend de Keras, entrenamiento de modelos\n",
    "from keras.models import Sequential  # Modelo secuencial\n",
    "from tensorflow.keras.optimizers import Adam  # Optimizador Adam\n",
    "from keras.layers import LSTM, Dense, Dropout  # Capas de red neuronal\n",
    "from keras.regularizers import l2  # Regularización L2\n",
    "\n",
    "# Guardado/carga de modelos y objetos\n",
    "import joblib  # Serialización de modelos/objetos"
   ]
  },
  {
   "cell_type": "markdown",
   "id": "45e1de78",
   "metadata": {},
   "source": [
    "Cargamos los datos sobre los que se va a entrenar el modelo."
   ]
  },
  {
   "cell_type": "code",
   "execution_count": null,
   "id": "b133eb1f",
   "metadata": {},
   "outputs": [],
   "source": [
    "id_objetivo = 3498 # <--- Sustituir este valor según el objetivo\n",
    "df = pd.read_csv(f'../data/{id_objetivo}.csv')\n",
    "\n",
    "# Mostrar las primeras filas del DataFrame\n",
    "print(f\"Datos cargados para el ID objetivo {id_objetivo}:\")\n",
    "df.head()"
   ]
  },
  {
   "cell_type": "markdown",
   "id": "d0d9d9a0",
   "metadata": {},
   "source": [
    "### Preprocesamiento de datos.\n",
    "\n",
    "Pasamos la columna `error` a numérica. La columna `tipo_elem` no la modificamos ya que no se va a contar con ella para el entrenamiento, pues su valor es el mismo todo el rato (estos datos corresponden al mismo elemento todo el rapo, por lo que el tipo de elemento será siempre el mismo)."
   ]
  },
  {
   "cell_type": "code",
   "execution_count": null,
   "id": "36e82f18",
   "metadata": {},
   "outputs": [],
   "source": [
    "df['error'] = (df['error'] != 'N').astype(int)\n",
    "\n",
    "# Vemos si se ha aplicado correctamente la transformación\n",
    "df.head()"
   ]
  },
  {
   "cell_type": "markdown",
   "id": "a9306a90",
   "metadata": {},
   "source": [
    "También se transforma la columna `fecha` en varios componentes útiles para el entrenamiento del modelo."
   ]
  },
  {
   "cell_type": "code",
   "execution_count": null,
   "id": "7bacdcfa",
   "metadata": {},
   "outputs": [],
   "source": [
    "# Convertir la columna 'fecha' a tipo datetime\n",
    "df['fecha'] = pd.to_datetime(df['fecha'])\n",
    "\n",
    "# Extraer características de la fecha\n",
    "df['hora'] = df['fecha'].dt.hour + df['fecha'].dt.minute / 60.0\n",
    "df['timestamp'] = df['fecha'].astype(np.int64) // 10**9 \n",
    "df['day_of_week'] = df['fecha'].dt.dayofweek  # 0=Lunes, 6=Domingo (numeric)"
   ]
  },
  {
   "cell_type": "markdown",
   "id": "35c242eb",
   "metadata": {},
   "source": [
    "El siguiente paso es verificar que no haya ninguna columna con algún tipo de dato que no queramos, por lo que se imprimen los tipos de dato de los valores de cada columna."
   ]
  },
  {
   "cell_type": "code",
   "execution_count": null,
   "id": "93e2223e",
   "metadata": {},
   "outputs": [],
   "source": [
    "df.dtypes"
   ]
  },
  {
   "cell_type": "markdown",
   "id": "6e0de625",
   "metadata": {},
   "source": [
    "Ya empezamos a prepararnos para entrenar el modelo. Se eliminan las filas nulas y se filtra el DataFrame para que solo tenga las columnas que se vayan a emplear para entrenar el modelo, poniendo al final las variables que se van a predecir."
   ]
  },
  {
   "cell_type": "code",
   "execution_count": null,
   "id": "c4138d87",
   "metadata": {},
   "outputs": [],
   "source": [
    "df = df.dropna()\n",
    "df = df[['timestamp', 'tipo_elem', 'ocupacion', 'carga', 'error',\n",
    "         'periodo_integracion', 'hora', 'day_of_week', 'intensidad', 'vmed']]"
   ]
  },
  {
   "cell_type": "markdown",
   "id": "c0dae732",
   "metadata": {},
   "source": [
    "Escalamos los datos para que todas las variables tengan la misma importancia y así el modelo pueda aprender de manera más eficiente."
   ]
  },
  {
   "cell_type": "code",
   "execution_count": null,
   "id": "b7875fc6",
   "metadata": {},
   "outputs": [],
   "source": [
    "scaler = MinMaxScaler(feature_range=(0, 1))\n",
    "scaled = scaler.fit_transform(df)"
   ]
  },
  {
   "cell_type": "markdown",
   "id": "fb84e779",
   "metadata": {},
   "source": [
    "Creamos secuencias de datos, un proceso importante porque el valor futuro depende del orden y los valores pasados, y de esta manera se captura la dinámica temporal del fenómeno. En este paso también se separan las variables objetivo del resto de columnas.\n",
    "\n",
    "Para cada secuencia se calculan 96 pasos, al ser los datos cada 15 minutos, esto implica que cada secuencia subre 1 día completo de datos."
   ]
  },
  {
   "cell_type": "code",
   "execution_count": null,
   "id": "56fdab13",
   "metadata": {},
   "outputs": [],
   "source": [
    "def create_sequences(data, sequence_length=96):\n",
    "    X, y = [], []\n",
    "    for i in range(sequence_length, len(data)):\n",
    "        X.append(data[i-sequence_length:i, :-2])  # input features\n",
    "        y.append(data[i, -2:])  # target: [intensidad, vmed]\n",
    "    return np.array(X), np.array(y)\n",
    "\n",
    "sequence_length = 96\n",
    "X, y = create_sequences(scaled, sequence_length)"
   ]
  },
  {
   "cell_type": "markdown",
   "id": "40892f71",
   "metadata": {},
   "source": [
    "Luego se divide el conjunto de datos en dos: el 80 % se destina al entrenamiento mientras que el 20 % a la validación."
   ]
  },
  {
   "cell_type": "code",
   "execution_count": null,
   "id": "2062c97e",
   "metadata": {},
   "outputs": [],
   "source": [
    "split = int(0.8 * len(X))\n",
    "X_train, X_test = X[:split], X[split:]\n",
    "y_train, y_test = y[:split], y[split:]"
   ]
  },
  {
   "cell_type": "markdown",
   "id": "c66f0126",
   "metadata": {},
   "source": [
    "### Modelo LSTM.\n",
    "\n",
    "Ahora ya se monta la arquitectura del modelo LSTM y se entrena el modelo."
   ]
  },
  {
   "cell_type": "code",
   "execution_count": null,
   "id": "fe5e80ee",
   "metadata": {},
   "outputs": [],
   "source": [
    "model = Sequential()\n",
    "\n",
    "# Primera capa LSTM \n",
    "model.add(LSTM(128, return_sequences=True, \n",
    "               dropout=0.1, recurrent_dropout=0, \n",
    "               kernel_regularizer=l2(1e-5), \n",
    "               input_shape=(X.shape[1], X.shape[2])))\n",
    "\n",
    "# Segunda capa LSTM\n",
    "model.add(LSTM(64, return_sequences=False, \n",
    "               dropout=0.1, recurrent_dropout=0, \n",
    "               kernel_regularizer=l2(1e-5)))\n",
    "\n",
    "# Capa densa oculta 1\n",
    "model.add(Dense(64, activation='relu', kernel_regularizer=l2(1e-5)))\n",
    "model.add(Dropout(0.1))\n",
    "\n",
    "# Capa densa oculta 2\n",
    "model.add(Dense(32, activation='relu', kernel_regularizer=l2(1e-5)))\n",
    "model.add(Dropout(0.1))\n",
    "\n",
    "# Capa de salida\n",
    "model.add(Dense(2))  # intensidad y vmed\n",
    "\n",
    "# Compilación del modelo\n",
    "optimizer = Adam(learning_rate=1e-4)\n",
    "model.compile(optimizer=optimizer, loss='mean_squared_error')\n",
    "\n",
    "# Entrenamiento del modelo\n",
    "history = model.fit(X_train, y_train, epochs=150, batch_size=32, validation_data=(X_test, y_test))"
   ]
  },
  {
   "cell_type": "markdown",
   "id": "1ddf982b",
   "metadata": {},
   "source": [
    "### Predicciones.\n",
    "\n",
    "Una vez entrenado el modelo, se hacen predicciones."
   ]
  },
  {
   "cell_type": "code",
   "execution_count": null,
   "id": "05369c9e",
   "metadata": {},
   "outputs": [],
   "source": [
    "y_pred = model.predict(X_test)"
   ]
  },
  {
   "cell_type": "markdown",
   "id": "dac91b14",
   "metadata": {},
   "source": [
    "Y se deshace el escalado que se hizo al principio sobre las variables predichas."
   ]
  },
  {
   "cell_type": "code",
   "execution_count": null,
   "id": "47623799",
   "metadata": {},
   "outputs": [],
   "source": [
    "def invert_scale(scaled_values, original_data, columns_idx):\n",
    "    unscaled = []\n",
    "    for i in range(len(scaled_values)):\n",
    "        row = np.zeros(original_data.shape[1])\n",
    "        row[columns_idx[0]] = scaled_values[i][0]\n",
    "        row[columns_idx[1]] = scaled_values[i][1]\n",
    "        inv = scaler.inverse_transform([row])\n",
    "        unscaled.append([inv[0][columns_idx[0]], inv[0][columns_idx[1]]])\n",
    "    return np.array(unscaled)\n",
    "\n",
    "y_pred_inv = invert_scale(y_pred, scaled, [-2, -1])\n",
    "y_test_inv = invert_scale(y_test, scaled, [-2, -1])"
   ]
  },
  {
   "cell_type": "markdown",
   "id": "ea2a83f1",
   "metadata": {},
   "source": [
    "### Evaluación del modelo.\n",
    "\n",
    "Para evaluar el modelo calculamos las métricas MSE, MAE, RMSE y R²."
   ]
  },
  {
   "cell_type": "code",
   "execution_count": null,
   "id": "0fc36703",
   "metadata": {},
   "outputs": [],
   "source": [
    "mse = mean_squared_error(y_test_inv, y_pred_inv)\n",
    "mae = mean_absolute_error(y_test_inv, y_pred_inv)\n",
    "rmse = sqrt(mse)\n",
    "r2 = r2_score(y_test_inv, y_pred_inv)\n",
    "\n",
    "print(f\"MSE:  {mse:.2f}\")\n",
    "print(f\"MAE:  {mae:.2f}\")\n",
    "print(f\"RMSE: {rmse:.2f}\")\n",
    "print(f\"R²:   {r2:.4f}\")"
   ]
  },
  {
   "cell_type": "markdown",
   "id": "de2645f9",
   "metadata": {},
   "source": [
    "Otra buena manera de evaluar un modelo es viualizar gráficas.\n",
    "\n",
    "El siguiente fragmento de código hace una comprativa de los valores reales y los predichos."
   ]
  },
  {
   "cell_type": "code",
   "execution_count": null,
   "id": "70048eb2",
   "metadata": {},
   "outputs": [],
   "source": [
    "plt.figure(figsize=(12,5))\n",
    "plt.plot(y_test_inv[:, 0], color='blue', label=\"Valores Reales\")\n",
    "plt.plot(y_pred_inv[:, 0], color='red', linestyle='--', label=f\"Predicciones LSTM - RMSE: {rmse:.2f}\")\n",
    "\n",
    "# Confidence interval (70%)\n",
    "residuals = y_test_inv[:, 0] - y_pred_inv[:, 0]\n",
    "std_res = np.std(residuals)\n",
    "upper = y_pred_inv[:, 0] + std_res\n",
    "lower = y_pred_inv[:, 0] - std_res\n",
    "plt.fill_between(range(len(y_pred_inv)), lower, upper, color='gray', alpha=0.3, label=\"Intervalo de Confianza (70%)\")\n",
    "\n",
    "plt.title(\"Predicciones del Modelo LSTM con Intervalo de Confianza del 70%\")\n",
    "plt.xlabel(\"Índice Temporal (15 min por paso)\")\n",
    "plt.ylabel(\"Intensidad\")\n",
    "plt.legend()\n",
    "plt.show()"
   ]
  },
  {
   "cell_type": "markdown",
   "id": "d478be69",
   "metadata": {},
   "source": [
    "Se grafican los residuos para ver si los errores están centrados en cero y  de manera simétrica, lo cual indica que el modelo no tiene sesgos sistemáticos y está capturando bien la estructura de los datos."
   ]
  },
  {
   "cell_type": "code",
   "execution_count": null,
   "id": "1397c0d5",
   "metadata": {},
   "outputs": [],
   "source": [
    "plt.figure(figsize=(10,5))\n",
    "plt.plot(residuals, color='red', label='LSTM Residuos')\n",
    "plt.axhline(y=0, color='black', linestyle='--')\n",
    "plt.title(\"Residuos del Modelo LSTM\")\n",
    "plt.xlabel(\"Índice Temporal (15 min por paso)\")\n",
    "plt.ylabel(\"Residuos\")\n",
    "plt.legend()\n",
    "plt.show()"
   ]
  },
  {
   "cell_type": "code",
   "execution_count": null,
   "id": "9176bf23",
   "metadata": {},
   "outputs": [],
   "source": [
    "plt.figure(figsize=(10,5))\n",
    "plt.hist(residuals, bins=30, color='salmon', label='LSTM Residuos')\n",
    "plt.title(\"Histograma de Residuos del Modelo LSTM\")\n",
    "plt.xlabel(\"Residuos\")\n",
    "plt.ylabel(\"Frecuencia\")\n",
    "plt.legend()\n",
    "plt.show()"
   ]
  },
  {
   "cell_type": "markdown",
   "id": "a401caa7",
   "metadata": {},
   "source": [
    "Por último, se dibuja la curva de aprendizaje para ver cómo de bien ha aprendido el modelo."
   ]
  },
  {
   "cell_type": "code",
   "execution_count": null,
   "id": "58430514",
   "metadata": {},
   "outputs": [],
   "source": [
    "plt.figure(figsize=(14, 5))\n",
    "\n",
    "# Pérdida\n",
    "plt.subplot(1, 2, 1)\n",
    "plt.plot(history.history['loss'], label='Train Loss', color='blue')\n",
    "plt.plot(history.history['val_loss'], label='Validation Loss', color='orange')\n",
    "plt.title('Model Loss')\n",
    "plt.xlabel('Epoch')\n",
    "plt.ylabel('Loss')\n",
    "plt.legend()\n",
    "\n",
    "plt.tight_layout()\n",
    "plt.show()"
   ]
  },
  {
   "cell_type": "markdown",
   "id": "e83e99d9",
   "metadata": {},
   "source": [
    "### Guardar modelo.\n",
    "\n",
    "El último paso es guardar el modelo entrenado y el escalador para poder usarlos cuando sea necesario, sin tener que ejecutar todo este cuaderno de nuevo."
   ]
  },
  {
   "cell_type": "code",
   "execution_count": null,
   "id": "42746b78",
   "metadata": {},
   "outputs": [],
   "source": [
    "model.save(\"./saved/lstm2_model.h5\")\n",
    "joblib.dump(scaler, \"./saved/lstm2_scaler.pkl\")\n",
    "\n",
    "print(\"Modelo y scaler guardados correctamente.\")"
   ]
  }
 ],
 "metadata": {
  "kernelspec": {
   "display_name": "Python 3",
   "language": "python",
   "name": "python3"
  },
  "language_info": {
   "codemirror_mode": {
    "name": "ipython",
    "version": 3
   },
   "file_extension": ".py",
   "mimetype": "text/x-python",
   "name": "python",
   "nbconvert_exporter": "python",
   "pygments_lexer": "ipython3",
   "version": "3.11.5"
  }
 },
 "nbformat": 4,
 "nbformat_minor": 5
}
