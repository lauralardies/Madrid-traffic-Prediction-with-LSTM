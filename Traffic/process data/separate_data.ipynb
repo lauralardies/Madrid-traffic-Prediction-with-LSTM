{
 "cells": [
  {
   "cell_type": "markdown",
   "id": "4c5bc745",
   "metadata": {},
   "source": [
    "### Separar los datos en CSVs separados según IDs.\n",
    "\n",
    "En este documento se separa el CSV grande donde se encuentran todos los datos en CSVs pequeños según el ID. Buscamos tener un modelo por cada ID, por lo que estos modelos deben de estar entrenados por un set de datos de cada ID.\n",
    "\n",
    "Primero improtamos las librerías necesarias."
   ]
  },
  {
   "cell_type": "code",
   "execution_count": null,
   "id": "466f0472",
   "metadata": {},
   "outputs": [],
   "source": [
    "import pandas as pd"
   ]
  },
  {
   "cell_type": "markdown",
   "id": "bb656bf4",
   "metadata": {},
   "source": [
    "Haremos dos código, uno para meter a mano un ID del que quieras obtener el CSV, y el segundo código que automáticamente pasa el CSV grande a todos los pequeños.\n",
    "\n",
    "Comenzamos con el que seleciconas a mano cuál CSV hacer."
   ]
  },
  {
   "cell_type": "code",
   "execution_count": null,
   "id": "4a91445f",
   "metadata": {},
   "outputs": [],
   "source": [
    "ids_objetivo = [6798, 6767, 4486, 4362, 3745, 4376, 4373, 5768, 6800, 3715, 3499, 5775, 9907, 9926, 5412, 3498]\n",
    "\n",
    "for id_objetivo in ids_objetivo:\n",
    "\n",
    "    # Ruta donde quieres guardar el CSV filtrado\n",
    "    salida = f'../data/{id_objetivo}.csv'\n",
    "\n",
    "    # Para controlar si ya escribimos la cabecera o no\n",
    "    primer_chunk = True\n",
    "\n",
    "    # Empezar a leer en chunks\n",
    "    for chunk in pd.read_csv('../data/2018-2025 traffic.csv', chunksize=1000):\n",
    "\n",
    "        # Filtrar por el id\n",
    "        filtrado = chunk[chunk['id'] == id_objetivo]\n",
    "\n",
    "        if not filtrado.empty:\n",
    "            # Eliminar la columna 'id'\n",
    "            filtrado = filtrado.drop(columns=['id'])\n",
    "\n",
    "            # Guardar los resultados\n",
    "            if primer_chunk:\n",
    "                filtrado.to_csv(salida, index=False, mode='w')  # primer trozo escribe con cabecera\n",
    "                primer_chunk = False\n",
    "            else:\n",
    "                filtrado.to_csv(salida, index=False, header=False, mode='a')  # siguientes trozos añaden sin cabecera\n",
    "\n",
    "    print(f\"¡Filtrado terminado! Datos del id {id_objetivo} guardados en '{salida}'.\")"
   ]
  }
 ],
 "metadata": {
  "kernelspec": {
   "display_name": ".venv",
   "language": "python",
   "name": "python3"
  },
  "language_info": {
   "codemirror_mode": {
    "name": "ipython",
    "version": 3
   },
   "file_extension": ".py",
   "mimetype": "text/x-python",
   "name": "python",
   "nbconvert_exporter": "python",
   "pygments_lexer": "ipython3",
   "version": "3.9.13"
  }
 },
 "nbformat": 4,
 "nbformat_minor": 5
}
