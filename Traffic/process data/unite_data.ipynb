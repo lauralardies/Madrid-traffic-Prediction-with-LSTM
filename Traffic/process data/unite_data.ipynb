{
 "cells": [
  {
   "cell_type": "markdown",
   "id": "5452806f",
   "metadata": {},
   "source": [
    "### En este documento se unen todos los CSVs individuales mensuales en uno único.\n",
    "\n",
    "Primero se improtan todas las librerías necesarias."
   ]
  },
  {
   "cell_type": "code",
   "execution_count": null,
   "id": "2455f824",
   "metadata": {},
   "outputs": [],
   "source": [
    "import pandas as pd\n",
    "import glob\n",
    "import xml.etree.ElementTree as ET\n",
    "import json"
   ]
  },
  {
   "cell_type": "markdown",
   "id": "c6989c50",
   "metadata": {},
   "source": [
    "El siguiente paso es capturar todos los CSVs mensuales."
   ]
  },
  {
   "cell_type": "code",
   "execution_count": null,
   "id": "c037d600",
   "metadata": {},
   "outputs": [],
   "source": [
    "# Ruta a tus archivos CSV históricos\n",
    "csv_files = glob.glob('../data/monthly data/*.csv')\n",
    "\n",
    "# Verificar que se encontraron todos archivos CSV\n",
    "print(csv_files)\n",
    "print(\"CSV files found:\", len(csv_files))"
   ]
  },
  {
   "cell_type": "markdown",
   "id": "cb84a5ae",
   "metadata": {},
   "source": [
    "Una vez se hayan identificado todos los CSVs a unir, definimos todas las columnas que tienen en común, es decir, nombramos las columnas que tendrá el CSV unificado."
   ]
  },
  {
   "cell_type": "code",
   "execution_count": null,
   "id": "06659046",
   "metadata": {},
   "outputs": [],
   "source": [
    "common_cols = ['id', 'fecha', 'tipo_elem', 'intensidad', 'ocupacion', 'carga', 'vmed', 'error', 'periodo_integracion']"
   ]
  },
  {
   "cell_type": "markdown",
   "id": "1af8c7ab",
   "metadata": {},
   "source": [
    "Vamos procesando en grupos de 10k filas por cada CSV y guardamos los datos en un nuevo CSV llamado `2018-2025 traffic.csv`."
   ]
  },
  {
   "cell_type": "code",
   "execution_count": null,
   "id": "b5957dbd",
   "metadata": {},
   "outputs": [],
   "source": [
    "first_chunk = True\n",
    "\n",
    "for file in csv_files:\n",
    "    for chunk in pd.read_csv(file, sep=';', chunksize=1000000): # Miramos en chunks de 1 000 k filas para no cargar todo en memoria\n",
    "    \n",
    "        # Filtrar solo columnas que nos interesan y que existan en este archivo\n",
    "        chunk = chunk[[col for col in common_cols if col in chunk.columns]]\n",
    "\n",
    "        # Agregar al dataframe principal\n",
    "        chunk.to_csv('../data/2018-2025 traffic.csv', mode='a', header=first_chunk, index=False)\n",
    "        first_chunk = False\n",
    "    print(f\"{file} — procesado.\")"
   ]
  },
  {
   "cell_type": "markdown",
   "id": "9ea579e2",
   "metadata": {},
   "source": [
    "Verificamos que se haya traspasado la información correctamente en nuestro nuevo archivo."
   ]
  },
  {
   "cell_type": "code",
   "execution_count": null,
   "id": "a5bf9016",
   "metadata": {},
   "outputs": [],
   "source": [
    "df = pd.read_csv('../data/2018-2025 traffic.csv', sep=',', chunksize=1000000)\n",
    "chunk = next(df)\n",
    "chunk.head(5)"
   ]
  },
  {
   "cell_type": "markdown",
   "id": "7647a8a1",
   "metadata": {},
   "source": [
    "El último paso para finalizar la unificación de datos es poder ubicar cada elemento medidor de tráfico. No nos sirve de nada tener un ID de un medidor de intensidad del tráfico si no sabemos donde se ubica. Para hacerlo, primero realizamos un conteo de todos los IDs en nuestra base de datos. "
   ]
  },
  {
   "cell_type": "code",
   "execution_count": null,
   "id": "f32bdc30",
   "metadata": {},
   "outputs": [],
   "source": [
    "conteo = {}\n",
    "\n",
    "# Leer por chunks\n",
    "for chunk in df:\n",
    "    for valor in chunk['id'].dropna():\n",
    "        if valor in conteo:\n",
    "            conteo[valor] += 1\n",
    "        else:\n",
    "            conteo[valor] = 1\n",
    "\n",
    "# Mostrar resultados\n",
    "for tipo, cantidad in conteo.items():\n",
    "    print(f\"{tipo}: {cantidad}\")"
   ]
  },
  {
   "cell_type": "markdown",
   "id": "7b434373",
   "metadata": {},
   "source": [
    "Cargamos la lista de IDs y la comparamos con una lista XML que incluye los mismos IDs y una ubicación asignada. Esta comparación implica que si se encuentra el ID en el archivo XML, también tenemos una ubicación exacta del elemento. Para optimizar el proceso, se guardará la ubicación en una lista de diccionarios, donde cada diccionario es un ID con su ubicación en coordenadas."
   ]
  },
  {
   "cell_type": "code",
   "execution_count": null,
   "id": "746967f3",
   "metadata": {},
   "outputs": [],
   "source": [
    "# Cargar los IDs\n",
    "lista_ids = list(conteo.keys())\n",
    "\n",
    "# Parsear XML\n",
    "tree = ET.parse('../data/pm.xml')\n",
    "root = tree.getroot()\n",
    "\n",
    "# Buscar coincidencias\n",
    "resultado = []\n",
    "for pm in root.findall('pm'):\n",
    "    idelem = int(pm.find('idelem').text)\n",
    "    if idelem in lista_ids:\n",
    "        st_x = pm.find('st_x').text.replace(',', '.')\n",
    "        st_y = pm.find('st_y').text.replace(',', '.')\n",
    "        resultado.append({\n",
    "            'id': idelem,\n",
    "            'coordenada_x': float(st_x),\n",
    "            'coordenada_y': float(st_y)\n",
    "        })"
   ]
  },
  {
   "cell_type": "markdown",
   "id": "549aa196",
   "metadata": {},
   "source": [
    "Verificamos que se obtiene un total de 5306 IDs con sus correspondientes ubicaciones. Solo estos IDs nos resultarán útiles en nuestro análsis."
   ]
  },
  {
   "cell_type": "code",
   "execution_count": null,
   "id": "e999a737",
   "metadata": {},
   "outputs": [],
   "source": [
    "print(\"Resultado:\", resultado)\n",
    "print(\"Cantidad de resultados:\", len(resultado))"
   ]
  },
  {
   "cell_type": "markdown",
   "id": "688f043e",
   "metadata": {},
   "source": [
    "Para no perder esta información valiosa, se almacena en un txt donde cada fila es un ID con su ubicación correspondiente."
   ]
  },
  {
   "cell_type": "code",
   "execution_count": null,
   "id": "75e36c2a",
   "metadata": {},
   "outputs": [],
   "source": [
    "with open('../data/coordenadas_ids.txt', 'w', encoding='utf-8') as f:\n",
    "    for item in resultado:\n",
    "        f.write(json.dumps(item) + '\\n')"
   ]
  }
 ],
 "metadata": {
  "kernelspec": {
   "display_name": "Python 3",
   "language": "python",
   "name": "python3"
  },
  "language_info": {
   "codemirror_mode": {
    "name": "ipython",
    "version": 3
   },
   "file_extension": ".py",
   "mimetype": "text/x-python",
   "name": "python",
   "nbconvert_exporter": "python",
   "pygments_lexer": "ipython3",
   "version": "3.11.5"
  }
 },
 "nbformat": 4,
 "nbformat_minor": 5
}
