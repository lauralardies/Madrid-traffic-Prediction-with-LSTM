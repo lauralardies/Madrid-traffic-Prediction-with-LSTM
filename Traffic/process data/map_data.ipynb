{
 "cells": [
  {
   "cell_type": "markdown",
   "id": "faf19c2f",
   "metadata": {},
   "source": [
    "## Ver visualmente los elementos que miden el tráfico.\n",
    "\n",
    "A partir de la lista de IDs y ubicaciones que se creó en el archivo `unite_data.ipynb`, usaremos la librería folium para hacer un mapa HTML donde se puede ver dónde se ubica cada punto que mide en tráfico en nuestros datos."
   ]
  },
  {
   "cell_type": "code",
   "execution_count": null,
   "id": "9903ad11",
   "metadata": {},
   "outputs": [],
   "source": [
    "import json\n",
    "import folium\n",
    "from pyproj import Transformer"
   ]
  },
  {
   "cell_type": "code",
   "execution_count": null,
   "id": "fd67ab78",
   "metadata": {},
   "outputs": [],
   "source": [
    "# Leer el archivo txt y reconstruir la lista\n",
    "resultado = []\n",
    "with open('../data/coordenadas_ids.txt', 'r', encoding='utf-8') as f:\n",
    "    for linea in f:\n",
    "        resultado.append(json.loads(linea.strip()))\n",
    "\n",
    "# Ahora 'resultado' es de nuevo tu lista de diccionarios\n",
    "print(f\"Se han cargado {len(resultado)} puntos.\")"
   ]
  },
  {
   "cell_type": "code",
   "execution_count": null,
   "id": "6c1a167f",
   "metadata": {},
   "outputs": [],
   "source": [
    "# Crear el transformador de UTM (ETRS89 zona 30N) a WGS84\n",
    "transformer = Transformer.from_crs(\"EPSG:25830\", \"EPSG:4326\", always_xy=True)\n",
    "\n",
    "# Crear un mapa centrado (escogemos un punto medio, por ejemplo Madrid)\n",
    "m = folium.Map(location=[40.4168, -3.7038], zoom_start=12)\n",
    "\n",
    "# Añadir los puntos\n",
    "for punto in resultado:\n",
    "    lon, lat = transformer.transform(punto['coordenada_x'], punto['coordenada_y'])\n",
    "    folium.Marker(\n",
    "        [lat, lon],\n",
    "        popup=f\"ID: {punto['id']}\"\n",
    "    ).add_to(m)\n",
    "\n",
    "# Guardar el mapa\n",
    "m.save('../data/mapa_ids.html')\n",
    "\n",
    "print(\"Mapa guardado como 'mapa_puntos.html' en la carpeta data.\")"
   ]
  },
  {
   "cell_type": "code",
   "execution_count": null,
   "id": "9cc6cb36",
   "metadata": {},
   "outputs": [],
   "source": [
    "ids_objetivo = [6798, 6767, 4486, 4362, 3745, 4376, 4373, 5768, 6800, 3715, 3499, 5775, 9907, 9926, 5412, 3498]\n",
    "\n",
    "# Crear el transformador de UTM (ETRS89 zona 30N) a WGS84\n",
    "transformer = Transformer.from_crs(\"EPSG:25830\", \"EPSG:4326\", always_xy=True)\n",
    "\n",
    "# Crear un mapa centrado (escogemos un punto medio, por ejemplo Madrid)\n",
    "m = folium.Map(location=[40.4168, -3.7038], zoom_start=12)\n",
    "\n",
    "# Filtrar los puntos por los IDs objetivo\n",
    "resultado = [punto for punto in resultado if punto['id'] in ids_objetivo]\n",
    "print(resultado)\n",
    "\n",
    "# Añadir los puntos\n",
    "for punto in resultado:\n",
    "    lon, lat = transformer.transform(punto['coordenada_x'], punto['coordenada_y'])\n",
    "    folium.Marker(\n",
    "        [lat, lon],\n",
    "        popup=f\"ID: {punto['id']}\"\n",
    "    ).add_to(m)\n",
    "\n",
    "# Guardar el mapa\n",
    "m.save('../data/mapa_ids_reducidos.html')\n",
    "\n",
    "print(\"Mapa guardado como 'mapa_puntos.html' en la carpeta data.\")"
   ]
  }
 ],
 "metadata": {
  "kernelspec": {
   "display_name": "Python 3",
   "language": "python",
   "name": "python3"
  },
  "language_info": {
   "codemirror_mode": {
    "name": "ipython",
    "version": 3
   },
   "file_extension": ".py",
   "mimetype": "text/x-python",
   "name": "python",
   "nbconvert_exporter": "python",
   "pygments_lexer": "ipython3",
   "version": "3.11.5"
  }
 },
 "nbformat": 4,
 "nbformat_minor": 5
}
