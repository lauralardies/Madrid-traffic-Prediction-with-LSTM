{
 "cells": [
  {
   "cell_type": "markdown",
   "id": "63a3e48d",
   "metadata": {},
   "source": [
    "# Visualización de datos.\n",
    "#### En este documento se visualizarán los datos de tráfico, tratando de capturar información importante.\n",
    "\n",
    "Primero se imprtan las librerías necesarias para el correcto funcionamiento del cuaderno de Jupyter."
   ]
  },
  {
   "cell_type": "code",
   "execution_count": null,
   "id": "eb94846c",
   "metadata": {},
   "outputs": [],
   "source": [
    "# Librerías estándar\n",
    "from datetime import datetime  # Manejo de fechas y tiempos\n",
    "\n",
    "# Manejo de datos\n",
    "import pandas as pd  # Manipulación de datos tabulares\n",
    "\n",
    "# Visualización\n",
    "import matplotlib.pyplot as plt  # Visualización básica\n",
    "import seaborn as sns  # Visualización estadística con estilo\n",
    "\n",
    "# Análisis de series temporales\n",
    "from statsmodels.tsa.seasonal import seasonal_decompose  # Descomposición de series temporales"
   ]
  },
  {
   "cell_type": "markdown",
   "id": "5ceda829",
   "metadata": {},
   "source": [
    "Cargamos los datos"
   ]
  },
  {
   "cell_type": "code",
   "execution_count": null,
   "id": "0cd53723",
   "metadata": {},
   "outputs": [],
   "source": [
    "df = pd.read_csv('../data/2018-2025 traffic.csv', parse_dates=['fecha'])"
   ]
  },
  {
   "cell_type": "markdown",
   "id": "24e8c1b1",
   "metadata": {},
   "source": [
    "Pasamos a numéricas aquellas columnas que contengan números."
   ]
  },
  {
   "cell_type": "code",
   "execution_count": null,
   "id": "a88177b2",
   "metadata": {},
   "outputs": [],
   "source": [
    "cols_num = ['intensidad', 'ocupacion', 'carga', 'vmed', 'periodo_integracion']\n",
    "\n",
    "for col in cols_num:\n",
    "    df[col] = pd.to_numeric(df[col], errors='coerce')"
   ]
  },
  {
   "cell_type": "markdown",
   "id": "81dec40b",
   "metadata": {},
   "source": [
    "Eliminams valores nulos."
   ]
  },
  {
   "cell_type": "code",
   "execution_count": null,
   "id": "ab21925f",
   "metadata": {},
   "outputs": [],
   "source": [
    "df = df.dropna()"
   ]
  },
  {
   "cell_type": "markdown",
   "id": "7cb439c6",
   "metadata": {},
   "source": [
    "Vemos los resultados."
   ]
  },
  {
   "cell_type": "code",
   "execution_count": null,
   "id": "e62295dd",
   "metadata": {},
   "outputs": [],
   "source": [
    "df.head()"
   ]
  },
  {
   "cell_type": "markdown",
   "id": "0938be00",
   "metadata": {},
   "source": [
    "Ponemos la fecha como índice en una copia del DataFrame."
   ]
  },
  {
   "cell_type": "code",
   "execution_count": null,
   "id": "274e3385",
   "metadata": {},
   "outputs": [],
   "source": [
    "# Convertir la columna 'fecha' a tipo datetime\n",
    "df['fecha'] = pd.to_datetime(df['fecha'], errors='coerce')\n",
    "df = df.dropna(subset=['fecha'])\n",
    "df = df.sort_values('fecha')\n",
    "\n",
    "# Crear una copia del DataFrame y establecer 'fecha' como índice\n",
    "df_copia = df.copy()\n",
    "df_copia.set_index('fecha', inplace=True)"
   ]
  },
  {
   "cell_type": "code",
   "execution_count": null,
   "id": "f79ef983",
   "metadata": {},
   "outputs": [],
   "source": [
    "df_copia.head()"
   ]
  },
  {
   "cell_type": "markdown",
   "id": "abc0258a",
   "metadata": {},
   "source": [
    "## 1. Descomposición de la serie temporal (Tendencia, Estacionalidad, Residuos)\n",
    "Esto ayuda a entender la estructura de la serie temporal para cada punto.\n",
    "\n",
    "Primero nos aseguramos que el índice es tipo Datetime."
   ]
  },
  {
   "cell_type": "code",
   "execution_count": null,
   "id": "547bdbde",
   "metadata": {},
   "outputs": [],
   "source": [
    "print(df_copia.index)"
   ]
  },
  {
   "cell_type": "markdown",
   "id": "1e659e16",
   "metadata": {},
   "source": [
    "Eliminamos los posibles nulos que haya y los agrupamos."
   ]
  },
  {
   "cell_type": "code",
   "execution_count": null,
   "id": "b85697cd",
   "metadata": {},
   "outputs": [],
   "source": [
    "df_copia = df_copia[~df_copia.index.isna()]\n",
    "df_agrupado = df_copia.groupby(df_copia.index).mean(numeric_only=True)"
   ]
  },
  {
   "cell_type": "markdown",
   "id": "09930a25",
   "metadata": {},
   "source": [
    "Descomoponemos la serie mensualmente."
   ]
  },
  {
   "cell_type": "code",
   "execution_count": null,
   "id": "4835cffb",
   "metadata": {},
   "outputs": [],
   "source": [
    "# Agrupar mensualmente\n",
    "df_monthly = df_agrupado.resample('ME').mean(numeric_only=True)\n",
    "df_monthly['intensidad'].dropna().plot(title='Intensidad Mensual')\n",
    "\n",
    "# Descomposición\n",
    "decomp = seasonal_decompose(df_monthly['intensidad'].dropna(), model='additive', period=12)\n",
    "\n",
    "# Plot\n",
    "decomp.plot()\n",
    "plt.suptitle(f\"Descomposición Serie Temporal Mensual\", y=1.05)\n",
    "plt.tight_layout()\n",
    "plt.show()"
   ]
  },
  {
   "cell_type": "markdown",
   "id": "30bff19d",
   "metadata": {},
   "source": [
    "## 2. Comportamiento diario promedio (Media de intensidad por hora)\n",
    "Para visualizar patrones diarios típicos de tráfico:"
   ]
  },
  {
   "cell_type": "code",
   "execution_count": null,
   "id": "dd48e362",
   "metadata": {},
   "outputs": [],
   "source": [
    "# Extraemos hora\n",
    "df['hora'] = df['fecha'].dt.hour\n",
    "\n",
    "# Promedio por hora para todos los puntos\n",
    "hora_media = df.groupby('hora')['intensidad'].mean().reset_index()\n",
    "\n",
    "# Plot\n",
    "plt.figure(figsize=(10, 5))\n",
    "sns.lineplot(data=hora_media, x='hora', y='intensidad')\n",
    "plt.title('Promedio de Intensidad por Hora del Día (Todos los Puntos)')\n",
    "plt.xlabel('Hora del Día')\n",
    "plt.ylabel('Intensidad Promedio')\n",
    "plt.grid(True)\n",
    "plt.show()"
   ]
  },
  {
   "cell_type": "markdown",
   "id": "e9d85299",
   "metadata": {},
   "source": [
    "## 3. Boxplot por día de la semana y hora\n",
    "Permite ver la variabilidad del tráfico en distintas franjas horarias durante la semana."
   ]
  },
  {
   "cell_type": "code",
   "execution_count": null,
   "id": "5b8add96",
   "metadata": {},
   "outputs": [],
   "source": [
    "df['dia_semana'] = df['fecha'].dt.day_name()\n",
    "\n",
    "plt.figure(figsize=(14, 6))\n",
    "sns.boxplot(x='hora', y='intensidad', hue='dia_semana', data=df, showfliers=False)\n",
    "plt.title('Distribución de Intensidad por Hora y Día de la Semana')\n",
    "plt.xlabel('Hora del Día')\n",
    "plt.ylabel('Intensidad')\n",
    "plt.legend(bbox_to_anchor=(1.05, 1), loc='upper left')\n",
    "plt.tight_layout()\n",
    "plt.show()"
   ]
  },
  {
   "cell_type": "markdown",
   "id": "9d07c5f1",
   "metadata": {},
   "source": [
    "## 4. Correlación entre variables\n",
    "Esto puede ayudar a decidir qué variables incluir en el modelo."
   ]
  },
  {
   "cell_type": "code",
   "execution_count": null,
   "id": "7f6117db",
   "metadata": {},
   "outputs": [],
   "source": [
    "corr = df[['intensidad', 'ocupacion', 'carga', 'vmed']].corr()\n",
    "\n",
    "sns.heatmap(corr, annot=True, cmap='coolwarm')\n",
    "plt.title('Correlación entre Variables de Tráfico')\n",
    "plt.show()"
   ]
  }
 ],
 "metadata": {
  "kernelspec": {
   "display_name": "Python 3",
   "language": "python",
   "name": "python3"
  },
  "language_info": {
   "codemirror_mode": {
    "name": "ipython",
    "version": 3
   },
   "file_extension": ".py",
   "mimetype": "text/x-python",
   "name": "python",
   "nbconvert_exporter": "python",
   "pygments_lexer": "ipython3",
   "version": "3.11.5"
  }
 },
 "nbformat": 4,
 "nbformat_minor": 5
}
