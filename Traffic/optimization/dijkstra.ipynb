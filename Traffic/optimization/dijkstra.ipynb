{
 "cells": [
  {
   "cell_type": "markdown",
   "id": "f5abbd88",
   "metadata": {},
   "source": [
    "# Camino mínimo y tiempo de trayecto.\n",
    "#### En este cuaderno se va a calcular el camino mínimo de un grafo con pesos a través del algoritmo de Dijkstra y se calculará el tiempo que lleva ir de un origen a un destino gracias a las velocidades predichas.\n",
    "\n",
    "El primer paso es importar todas las librerías necesarias para el correcto funcionamiento de este cuaderno de Jupyter."
   ]
  },
  {
   "cell_type": "code",
   "execution_count": null,
   "id": "21ad4feb",
   "metadata": {},
   "outputs": [],
   "source": [
    "# Librerías estándar\n",
    "from math import sqrt  # Funciones matemáticas\n",
    "from datetime import datetime, timedelta  # Manejo de fechas y tiempos\n",
    "import json  # Lectura/escritura de archivos JSON\n",
    "import pickle  # Serialización de objetos Python (binario)\n",
    "\n",
    "# Manipulación y análisis de grafos\n",
    "import networkx as nx  # Estructuras y algoritmos para grafos\n",
    "from networkx.readwrite import json_graph  # Conversión entre grafos y formato JSON\n",
    "\n",
    "# Visualización\n",
    "import matplotlib.pyplot as plt  # Gráficas, incluyendo visualización de grafos"
   ]
  },
  {
   "cell_type": "markdown",
   "id": "74bd8ff4",
   "metadata": {},
   "source": [
    "Se define el grafo a partir del documento JSON con pesos de intensidad actualizados."
   ]
  },
  {
   "cell_type": "code",
   "execution_count": null,
   "id": "6163ab65",
   "metadata": {},
   "outputs": [],
   "source": [
    "with open(\"grafo_dirigido.json\") as f:\n",
    "    data = json.load(f)\n",
    "\n",
    "G = json_graph.node_link_graph(data, directed=True)"
   ]
  },
  {
   "cell_type": "markdown",
   "id": "1f3c5494",
   "metadata": {},
   "source": [
    "Las intensidades están en los nodos y para aplicar el algoritmo de Dijkstra es necesario que estos pesos estén sobre la arista. Se deben pasar estas intensidades a las aristas que llegan a dicho nodo, y el coste inicial del camino coresponde con la intensidad del nodo origen."
   ]
  },
  {
   "cell_type": "code",
   "execution_count": null,
   "id": "aaf32c76",
   "metadata": {},
   "outputs": [],
   "source": [
    "# Regla: weight(u → v) = intensidad[v]\n",
    "for u, v in G.edges():\n",
    "    G[u][v]['weight'] = G.nodes[v]['intensidad']"
   ]
  },
  {
   "cell_type": "markdown",
   "id": "5a1be018",
   "metadata": {},
   "source": [
    "### Camino mínimo.\n",
    "\n",
    "Calculamos el camino mínimo definiendo antes el nodo origen y nodo destino."
   ]
  },
  {
   "cell_type": "code",
   "execution_count": null,
   "id": "2b23d6dc",
   "metadata": {},
   "outputs": [],
   "source": [
    "origen = '6798'\n",
    "destino = '4376'\n",
    "\n",
    "camino = nx.dijkstra_path(G, origen, destino, weight='weight')\n",
    "print(\"Camino mínimo:\", camino)"
   ]
  },
  {
   "cell_type": "markdown",
   "id": "9fef56be",
   "metadata": {},
   "source": [
    "También se visualiza dicho camino."
   ]
  },
  {
   "cell_type": "code",
   "execution_count": null,
   "id": "61e49360",
   "metadata": {},
   "outputs": [],
   "source": [
    "# Recuperar las aristas del camino mínimo\n",
    "path_edges = list(zip(camino, camino[1:]))\n",
    "\n",
    "plt.figure(figsize=(12, 10))\n",
    "\n",
    "# Posiciones automáticas\n",
    "pos = nx.spring_layout(G, seed=97, k=2)  # k grande = más separación entre nodos\n",
    "\n",
    "# Dibujar nodos\n",
    "nx.draw_networkx_nodes(G, pos, node_size=700, node_color='lightblue')\n",
    "\n",
    "# Dibujar aristas con flechas\n",
    "nx.draw_networkx_edges(G, pos, arrowstyle='->', arrowsize=20)\n",
    "\n",
    "# Dibujar etiquetas de los nodos\n",
    "nx.draw_networkx_labels(G, pos, font_size=10, font_weight='bold')\n",
    "\n",
    "# Resaltar el camino mínimo\n",
    "nx.draw_networkx_edges(\n",
    "    G, pos,\n",
    "    edgelist=path_edges,\n",
    "    width=4,           # más \"negrita\"\n",
    "    edge_color='darkorange'   # otro color para resaltar\n",
    ")\n",
    "\n",
    "# Dibujar grafo\n",
    "plt.title(\"Grafo de tráfico dirigido\")\n",
    "plt.axis('off')\n",
    "plt.show()"
   ]
  },
  {
   "cell_type": "markdown",
   "id": "9aa8f620",
   "metadata": {},
   "source": [
    "### Calcular el tiempo de desplazamiento.\n",
    "\n",
    "Se usará la fórmula que divide la distancia y la velocidad.\n",
    "\n",
    "Primero definiremos algunas funciones."
   ]
  },
  {
   "cell_type": "code",
   "execution_count": null,
   "id": "447fe97c",
   "metadata": {},
   "outputs": [],
   "source": [
    "def distancia_euclidiana(p1, p2):\n",
    "    '''\n",
    "    Calcula la distancia euclidiana entre dos puntos p1 y p2.\n",
    "    p1 y p2 deben ser tuplas (x, y) con coordenadas en metros.\n",
    "    '''\n",
    "    x1, y1 = p1\n",
    "    x2, y2 = p2\n",
    "    res = sqrt((x2 - x1)**2 + (y2 - y1)**2)\n",
    "    return res/1000  # resultado en km"
   ]
  },
  {
   "cell_type": "code",
   "execution_count": null,
   "id": "d22ea823",
   "metadata": {},
   "outputs": [],
   "source": [
    "def formato_tiempo(horas, hora, programado):\n",
    "    '''\n",
    "    Convierte un valor decimal de horas a un formato legible y ajusta una hora dada.\n",
    "    - horas: valor decimal de horas (float)\n",
    "    - hora: objeto datetime.time con la hora base\n",
    "    - programado: True si es un tiempo programado (restar), False si es un tiempo real (sumar)\n",
    "    '''\n",
    "    # Convertir la hora (datetime.time) a datetime para poder operar\n",
    "    base_dt = datetime.combine(datetime.today(), hora)\n",
    "\n",
    "    # Separar horas y minutos del valor decimal\n",
    "    horas_int = int(horas)\n",
    "    minutos = int(round((horas - horas_int) * 60))\n",
    "    delta = timedelta(hours=horas_int, minutes=minutos)\n",
    "\n",
    "    # Sumar o restar\n",
    "    nueva_dt = base_dt - delta if programado else base_dt + delta\n",
    "    # Extraer la nueva hora\n",
    "    nueva_hora = nueva_dt.time()\n",
    "\n",
    "    # Formato legible del tiempo\n",
    "    if horas_int > 0 and minutos > 0:\n",
    "        tiempo = f\"{horas_int} h {minutos} min\"\n",
    "    elif horas_int > 0:\n",
    "        tiempo = f\"{horas_int} h\"\n",
    "    else:\n",
    "        tiempo = f\"{minutos} min\" if minutos > 0 else \"< 1 min\"\n",
    "\n",
    "    return tiempo, nueva_hora"
   ]
  },
  {
   "cell_type": "code",
   "execution_count": null,
   "id": "70f5fa38",
   "metadata": {},
   "outputs": [],
   "source": [
    "def formato_distancia(km):\n",
    "    '''\n",
    "    Formatea una distancia en kilómetros a un string legible.\n",
    "    - km: distancia en kilómetros (float)\n",
    "    '''\n",
    "    if km >= 1:\n",
    "        return f\"{km:.1f} km\"\n",
    "    else:\n",
    "        metros = int(km * 1000)\n",
    "        return f\"{metros} m\""
   ]
  },
  {
   "cell_type": "markdown",
   "id": "d21c5448",
   "metadata": {},
   "source": [
    "La velocidad se obtiene a partir de las predicciones realizadas previamente en la carpeta `predictions`. Por lo tanto, cargaremos estos datos."
   ]
  },
  {
   "cell_type": "code",
   "execution_count": null,
   "id": "4f3fac71",
   "metadata": {},
   "outputs": [],
   "source": [
    "with open('../predictions/predicciones_vmed.pkl', 'rb') as f:\n",
    "    predicciones_vmed = pickle.load(f)"
   ]
  },
  {
   "cell_type": "markdown",
   "id": "9c17779e",
   "metadata": {},
   "source": [
    "El siguiente paso es obtener las coordenadas de cada nodo del grafo, que ya se almacenaron durante el procesamiento de datos en la carpeta `data`."
   ]
  },
  {
   "cell_type": "code",
   "execution_count": null,
   "id": "e974692a",
   "metadata": {},
   "outputs": [],
   "source": [
    "# Diccionario: id → (x, y)\n",
    "coordenadas = {}\n",
    "\n",
    "with open(\"../data/coordenadas_ids.txt\") as f:\n",
    "    for line in f:\n",
    "        data = json.loads(line)\n",
    "        node_id = str(data[\"id\"])\n",
    "        coordenadas[node_id] = [data[\"coordenada_x\"], data[\"coordenada_y\"]]"
   ]
  },
  {
   "cell_type": "markdown",
   "id": "7fb7674f",
   "metadata": {},
   "source": [
    "También hay que preparar los datos para poder meterlos en la función `formato_tiempo` que se definió unas celdas más arriba."
   ]
  },
  {
   "cell_type": "code",
   "execution_count": null,
   "id": "fea523fc",
   "metadata": {},
   "outputs": [],
   "source": [
    "# Cargamos la fecha de la predicción\n",
    "with open('../predictions/fecha.pkl', 'rb') as f:\n",
    "        fecha = pickle.load(f)\n",
    "\n",
    "fecha_dt = datetime.strptime(fecha, \"%d/%m/%Y %H:%M:%S\")\n",
    "hora_inicial = fecha_dt.time()\n",
    "hora = hora_inicial"
   ]
  },
  {
   "cell_type": "markdown",
   "id": "5bd31da3",
   "metadata": {},
   "source": [
    "Ahora ya se inicia la simulación para calcular la distancia y tiempo para cada paso del camino mínimo. Se calculará el tiempo para cada movimiento del trayecto mediante la fórmula t = distancia / velocidad.\n",
    "\n",
    "En este primer caso se realiza la simulación de que se calcula una hora de llegada a partir de una de salida."
   ]
  },
  {
   "cell_type": "code",
   "execution_count": null,
   "id": "5c35e036",
   "metadata": {},
   "outputs": [],
   "source": [
    "tiempo_total = 0\n",
    "distancia_total = 0\n",
    "\n",
    "print(f\"Hora de inicio: {hora_inicial}\")\n",
    "print('Trayecto paso por paso:')\n",
    "\n",
    "for i in range(len(camino)):\n",
    "    if i == len(camino) - 1: # Último nodo, no hay siguiente\n",
    "        break\n",
    "\n",
    "    # Movimiento entre un nodo y el siguiente\n",
    "    origen = camino[i]\n",
    "    destino = camino[i + 1]\n",
    "\n",
    "    # Distancia entre el origen y el destino\n",
    "    distancia = distancia_euclidiana(coordenadas[origen], coordenadas[destino])\n",
    "    distancia_total += distancia\n",
    "\n",
    "    # Velocidad media entre el origen y el destino\n",
    "    velocidad = (predicciones_vmed[origen]+predicciones_vmed[destino])/2\n",
    "\n",
    "    # Tiempo de trayecto\n",
    "    tiempo = distancia / velocidad\n",
    "    tiempo_total += tiempo\n",
    "\n",
    "    # Formateamos la salida\n",
    "    tiempo, hora = formato_tiempo(tiempo, hora, programado=False)\n",
    "\n",
    "    # Imprimimos los resultados del tramo\n",
    "    print(f\"{i+1}: \\nOrigen: {origen} Destino: {destino}\")\n",
    "    print(f\"Velocidad media: {velocidad}\")\n",
    "    print(f\"Distancia: {formato_distancia(distancia)}\")\n",
    "    print(f\"Tiempo de trayecto: {tiempo} \")\n",
    "    print(f\"Hora de llegada: {hora}\")\n",
    "\n",
    "# Formateamos el tiempo total\n",
    "tiempo_total, hora_final = formato_tiempo(tiempo_total, hora_inicial, programado=False)\n",
    "\n",
    "# Imprimimos el resumen del trayecto completo\n",
    "print(\"----------------------\")\n",
    "print(\"Trayecto completo:\")\n",
    "print(f\"Origen: {camino[0]} Destino: {camino[-1]}\")\n",
    "print(f\"Distancia total: {formato_distancia(distancia_total)}\")\n",
    "print(f\"Tiempo total: {tiempo_total}\")\n",
    "print(f\"Hora de salida: {hora_inicial} Hora de llegada: {hora_final}\")"
   ]
  },
  {
   "cell_type": "markdown",
   "id": "1f0107c7",
   "metadata": {},
   "source": [
    "En este segundo caso se realiza la simulación de que se calcula una hora de salida a partir de una de llegada."
   ]
  },
  {
   "cell_type": "code",
   "execution_count": null,
   "id": "88a6e398",
   "metadata": {},
   "outputs": [],
   "source": [
    "# Volvemos a definir las variables tipo tiempo para que se reinicien\n",
    "with open('../predictions/fecha.pkl', 'rb') as f:\n",
    "        fecha = pickle.load(f)\n",
    "\n",
    "fecha_dt = datetime.strptime(fecha, \"%d/%m/%Y %H:%M:%S\")\n",
    "hora_inicial = fecha_dt.time()\n",
    "hora = hora_inicial\n",
    "\n",
    "# Comenzamos las simulación\n",
    "tiempo_total = 0\n",
    "distancia_total = 0\n",
    "\n",
    "print(f\"Hora de llegada: {hora_inicial}\")\n",
    "print('Trayecto paso por paso:')\n",
    "\n",
    "# Invertimos el camino para el trayecto inverso\n",
    "camino_inv = camino[::-1]\n",
    "\n",
    "for i in range(len(camino_inv)):\n",
    "    if i == len(camino_inv) - 1: # Último nodo, no hay siguiente\n",
    "        break\n",
    "\n",
    "    # Movimiento entre un nodo y el siguiente\n",
    "    origen = camino_inv[i]\n",
    "    destino = camino_inv[i + 1]\n",
    "\n",
    "    # Distancia entre el origen y el destino\n",
    "    distancia = distancia_euclidiana(coordenadas[origen], coordenadas[destino])\n",
    "    distancia_total += distancia\n",
    "\n",
    "    # Velocidad media entre el origen y el destino\n",
    "    velocidad = (predicciones_vmed[origen]+predicciones_vmed[destino])/2\n",
    "\n",
    "    # Tiempo de trayecto\n",
    "    tiempo = distancia / velocidad\n",
    "    tiempo_total += tiempo\n",
    "\n",
    "    # Formateamos la salida\n",
    "    tiempo, hora = formato_tiempo(tiempo, hora, programado=True)\n",
    "\n",
    "    # Imprimimos los resultados del tramo\n",
    "    print(f\"{i+1}: \\nOrigen: {origen} Destino: {destino}\")\n",
    "    print(f\"Velocidad media: {velocidad}\")\n",
    "    print(f\"Distancia: {formato_distancia(distancia)}\")\n",
    "    print(f\"Tiempo de trayecto: {tiempo} \")\n",
    "    print(f\"Hora de salida actualizada: {hora}\")\n",
    "\n",
    "# Formateamos el tiempo total\n",
    "tiempo_total, hora_final = formato_tiempo(tiempo_total, hora_inicial, programado=True)\n",
    "\n",
    "# Imprimimos el resumen del trayecto completo\n",
    "print(\"----------------------\")\n",
    "print(\"Trayecto completo:\")\n",
    "print(f\"Origen: {camino[0]} Destino: {camino[-1]}\")\n",
    "print(f\"Distancia total: {formato_distancia(distancia_total)}\")\n",
    "print(f\"Tiempo total: {tiempo_total}\")\n",
    "print(f\"Hora de llegada: {hora_inicial} Hora de salida: {hora_final}\")"
   ]
  }
 ],
 "metadata": {
  "kernelspec": {
   "display_name": "Python 3",
   "language": "python",
   "name": "python3"
  },
  "language_info": {
   "codemirror_mode": {
    "name": "ipython",
    "version": 3
   },
   "file_extension": ".py",
   "mimetype": "text/x-python",
   "name": "python",
   "nbconvert_exporter": "python",
   "pygments_lexer": "ipython3",
   "version": "3.11.5"
  }
 },
 "nbformat": 4,
 "nbformat_minor": 5
}
