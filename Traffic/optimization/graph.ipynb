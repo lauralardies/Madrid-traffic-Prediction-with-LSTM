{
 "cells": [
  {
   "cell_type": "markdown",
   "id": "452f24a8",
   "metadata": {},
   "source": [
    "# Crear un grafo y añadir pesos.\n",
    "#### En este cuaderno se va a generar un grafo con los datos preseleccionados y se actualizarán sus pesos acorde a predicciones.\n",
    "\n",
    "El primer paso es importar todas las librerías necesarias para el correcto funcionamiento de este cuaderno de Jupyter."
   ]
  },
  {
   "cell_type": "code",
   "execution_count": null,
   "id": "1e6839a9",
   "metadata": {},
   "outputs": [],
   "source": [
    "# Manejo de datos y serialización\n",
    "import json  # Lectura/escritura de archivos JSON\n",
    "import pickle  # Serialización de objetos Python (binario)\n",
    "\n",
    "# Manipulación y análisis de grafos\n",
    "import networkx as nx  # Estructuras y algoritmos para grafos\n",
    "from networkx.readwrite import json_graph  # Conversión entre grafos y formato JSON\n",
    "\n",
    "# Visualización\n",
    "import matplotlib.pyplot as plt  # Gráficas, incluyendo visualización de grafos"
   ]
  },
  {
   "cell_type": "markdown",
   "id": "7132bb24",
   "metadata": {},
   "source": [
    "## Generar el grafo.\n",
    "\n",
    "Se genera un grafo genérico dirigido vacío con nuestros datos."
   ]
  },
  {
   "cell_type": "code",
   "execution_count": null,
   "id": "73fa7be2",
   "metadata": {},
   "outputs": [],
   "source": [
    "# Crear grafo dirigido\n",
    "G = nx.DiGraph()\n",
    "\n",
    "# Lista de aristas (de, a), sin pesos\n",
    "edges = [\n",
    "    ('6798', '6767'),\n",
    "    ('6798', '5768'),\n",
    "    ('6798', '6800'),\n",
    "    ('6767', '4486'),\n",
    "    ('4486', '4362'),\n",
    "    ('4362', '3745'),\n",
    "    ('3745', '4376'),\n",
    "    ('5768', '4373'),\n",
    "    ('4373', '4376'),\n",
    "    ('5768', '3715'),\n",
    "    ('3715', '3499'),\n",
    "    ('3499', '5775'),\n",
    "    ('6800', '9907'),\n",
    "    ('9907', '9926'),\n",
    "    ('9926', '5412'),\n",
    "    ('5412', '3498'),\n",
    "    ('3498', '5775')  \n",
    "]\n",
    "\n",
    "# Añadir nodos y aristas al grafo\n",
    "G.add_edges_from(edges)"
   ]
  },
  {
   "cell_type": "markdown",
   "id": "66ca3c50",
   "metadata": {},
   "source": [
    "Guardamos el grafo en un archivo JSON para que se pueda reutilizar."
   ]
  },
  {
   "cell_type": "code",
   "execution_count": null,
   "id": "bd80dbf8",
   "metadata": {},
   "outputs": [],
   "source": [
    "# Convertir el grafo a formato JSON serializable\n",
    "data = json_graph.node_link_data(G)\n",
    "\n",
    "# Guardar a archivo par poder cargarlo en otros documentos\n",
    "with open(\"grafo_dirigido.json\", \"w\") as f:\n",
    "    json.dump(data, f, indent=2)\n",
    "\n",
    "print(\"Grafo guardado en grafo_dirigido.json\")"
   ]
  },
  {
   "cell_type": "markdown",
   "id": "c04cf960",
   "metadata": {},
   "source": [
    "## Actualizar el grafo con predicciones de intensidad.\n",
    "\n",
    "Cargamos las predicciones de intensidad realizadas previamente en la careta `predictions`."
   ]
  },
  {
   "cell_type": "code",
   "execution_count": null,
   "id": "dd32f108",
   "metadata": {},
   "outputs": [],
   "source": [
    "with open('../predictions/predicciones_intensidad.pkl', 'rb') as f:\n",
    "    predicciones_intensidad = pickle.load(f)\n",
    "\n",
    "print(predicciones_intensidad)"
   ]
  },
  {
   "cell_type": "markdown",
   "id": "bb53f73c",
   "metadata": {},
   "source": [
    "Cargamos el grafo que se ha cargado anteriormente y actualizamos los nodos."
   ]
  },
  {
   "cell_type": "code",
   "execution_count": null,
   "id": "15ede018",
   "metadata": {},
   "outputs": [],
   "source": [
    "# Cargar el grafo desde el archivo JSON\n",
    "with open(\"grafo_dirigido.json\") as f:\n",
    "    data = json.load(f)\n",
    "\n",
    "# Definimos el grafo dirigido a partir de los datos JSON\n",
    "G = json_graph.node_link_graph(data, directed=True)\n",
    "\n",
    "# Actualizar los nodos con las predicciones de intensidad\n",
    "for node in G.nodes():\n",
    "    G.nodes[node]['intensidad'] = predicciones_intensidad[node]"
   ]
  },
  {
   "cell_type": "markdown",
   "id": "6b6ceae1",
   "metadata": {},
   "source": [
    "Se vuelve a guardar el grafo acutualizado en el mismo archivo."
   ]
  },
  {
   "cell_type": "code",
   "execution_count": null,
   "id": "a79b8b0b",
   "metadata": {},
   "outputs": [],
   "source": [
    "# Convertir el grafo a formato JSON serializable\n",
    "data = json_graph.node_link_data(G)\n",
    "\n",
    "# Guardar a archivo par poder cargarlo en otros documentos\n",
    "with open(\"grafo_dirigido.json\", \"w\") as f:\n",
    "    json.dump(data, f, indent=2)\n",
    "\n",
    "print(\"Grafo grafo_dirigido.json actualizado\")"
   ]
  },
  {
   "cell_type": "markdown",
   "id": "a5917727",
   "metadata": {},
   "source": [
    "## Visualizar el grafos.\n",
    "\n",
    "Se muestra el grafo dirigido para ver qué forma tiene."
   ]
  },
  {
   "cell_type": "code",
   "execution_count": null,
   "id": "a070346f",
   "metadata": {},
   "outputs": [],
   "source": [
    "plt.figure(figsize=(12, 10)) \n",
    "\n",
    "# Posiciones automáticas\n",
    "pos = nx.spring_layout(G, seed=97, k=2)  # k grande = más separación entre nodos\n",
    "\n",
    "# Dibujar nodos\n",
    "nx.draw_networkx_nodes(G, pos, node_size=700, node_color='lightblue')\n",
    "\n",
    "# Dibujar aristas con flechas\n",
    "nx.draw_networkx_edges(G, pos, arrowstyle='->', arrowsize=20)\n",
    "\n",
    "# Dibujar etiquetas de los nodos\n",
    "nx.draw_networkx_labels(G, pos, font_size=10, font_weight='bold')\n",
    "\n",
    "# Dibujar grafo\n",
    "plt.title(\"Grafo de tráfico dirigido\")\n",
    "plt.axis('off')\n",
    "plt.show()"
   ]
  },
  {
   "cell_type": "markdown",
   "id": "94d3f6f3",
   "metadata": {},
   "source": [
    "Visualizar con etiquetas de colores para simular la intensidad."
   ]
  },
  {
   "cell_type": "code",
   "execution_count": null,
   "id": "14d45da7",
   "metadata": {},
   "outputs": [],
   "source": [
    "plt.figure(figsize=(12, 10)) \n",
    "\n",
    "# Posiciones automáticas\n",
    "pos = nx.spring_layout(G, seed=97, k=2)  # k grande = más separación entre nodos\n",
    "\n",
    "# Colores basados en intensidad\n",
    "node_colors = [G.nodes[n]['intensidad'] for n in G.nodes()]\n",
    "\n",
    "# Dibuja nodos y guarda el objeto mapeable\n",
    "nodes = nx.draw_networkx_nodes(\n",
    "    G, pos,\n",
    "    node_color=node_colors,\n",
    "    cmap=plt.cm.Reds,\n",
    "    node_size=700\n",
    ")\n",
    "\n",
    "# Dibujar aristas con flechas\n",
    "nx.draw_networkx_edges(G, pos, arrowstyle='->', arrowsize=20)\n",
    "\n",
    "# Dibujar etiquetas de los nodos\n",
    "nx.draw_networkx_labels(G, pos, font_size=10)\n",
    "\n",
    "# Colorbar asociada al objeto mapeable \"nodes\"\n",
    "plt.colorbar(nodes, label=\"Intensidad del nodo\")\n",
    "\n",
    "# Dibujar grafo\n",
    "plt.title(\"Grafo de tráfico dirigido\")\n",
    "plt.axis('off')\n",
    "plt.show()"
   ]
  }
 ],
 "metadata": {
  "kernelspec": {
   "display_name": "Python 3",
   "language": "python",
   "name": "python3"
  },
  "language_info": {
   "codemirror_mode": {
    "name": "ipython",
    "version": 3
   },
   "file_extension": ".py",
   "mimetype": "text/x-python",
   "name": "python",
   "nbconvert_exporter": "python",
   "pygments_lexer": "ipython3",
   "version": "3.11.5"
  }
 },
 "nbformat": 4,
 "nbformat_minor": 5
}
